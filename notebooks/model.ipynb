{
 "cells": [
  {
   "cell_type": "code",
   "execution_count": 1,
   "metadata": {},
   "outputs": [],
   "source": [
    "import numpy as np\n",
    "import pandas as pd\n",
    "import sys\n",
    "import os\n",
    "\n",
    "import matplotlib.pyplot as plt\n",
    "import seaborn as sns\n",
    "\n",
    "from collections import defaultdict\n",
    "\n",
    "from sklearn.linear_model import Ridge\n",
    "from sklearn.svm import SVR\n",
    "from sklearn.ensemble import RandomForestRegressor\n",
    "from sklearn.model_selection import GridSearchCV, RandomizedSearchCV\n",
    "\n",
    "from sklearn.metrics import r2_score, mean_squared_error\n",
    "from sklearn.metrics import accuracy_score, f1_score\n",
    "\n",
    "# import directory\n",
    "module_path = os.path.abspath(os.path.join('..'))\n",
    "if module_path not in sys.path:\n",
    "    sys.path.append(module_path)"
   ]
  },
  {
   "cell_type": "code",
   "execution_count": 2,
   "metadata": {},
   "outputs": [],
   "source": [
    "import os\n",
    "import sys\n",
    "import re\n",
    "import shutil\n",
    "import time\n",
    "import pickle\n",
    "from collections import defaultdict\n",
    "from datetime import datetime\n",
    "import numpy as np\n",
    "import pandas as pd\n",
    "import matplotlib.pyplot as plt\n",
    "import matplotlib.dates as mdates\n",
    "from pandas.plotting import register_matplotlib_converters\n",
    "register_matplotlib_converters()\n",
    "\n",
    "def fetch_data(data_dir):\n",
    "    \"\"\"\n",
    "    laod all json formatted files into a dataframe\n",
    "    \"\"\"\n",
    "\n",
    "    ## input testing\n",
    "    if not os.path.isdir(data_dir):\n",
    "        raise Exception(\"specified data dir does not exist\")\n",
    "    if not len(os.listdir(data_dir)) > 0:\n",
    "        raise Exception(\"specified data dir does not contain any files\")\n",
    "\n",
    "    file_list = [os.path.join(data_dir,f) for f in os.listdir(data_dir) if re.search(\"\\.json\",f)]\n",
    "    correct_columns = ['country', 'customer_id', 'day', 'invoice', 'month',\n",
    "                       'price', 'stream_id', 'times_viewed', 'year']\n",
    "\n",
    "    ## read data into a temp structure\n",
    "    all_months = {}\n",
    "    for file_name in file_list:\n",
    "        df = pd.read_json(file_name)\n",
    "        all_months[os.path.split(file_name)[-1]] = df\n",
    "\n",
    "    ## ensure the data are formatted with correct columns\n",
    "    for f,df in all_months.items():\n",
    "        cols = set(df.columns.tolist())\n",
    "        if 'StreamID' in cols:\n",
    "             df.rename(columns={'StreamID':'stream_id'},inplace=True)\n",
    "        if 'TimesViewed' in cols:\n",
    "            df.rename(columns={'TimesViewed':'times_viewed'},inplace=True)\n",
    "        if 'total_price' in cols:\n",
    "            df.rename(columns={'total_price':'price'},inplace=True)\n",
    "\n",
    "        cols = df.columns.tolist()\n",
    "        if sorted(cols) != correct_columns:\n",
    "            raise Exception(\"columns name could not be matched to correct cols\")\n",
    "\n",
    "    ## concat all of the data\n",
    "    df = pd.concat(list(all_months.values()),sort=True)\n",
    "    years,months,days = df['year'].values,df['month'].values,df['day'].values \n",
    "    dates = [\"{}-{}-{}\".format(years[i],str(months[i]).zfill(2),str(days[i]).zfill(2)) for i in range(df.shape[0])]\n",
    "    df['invoice_date'] = np.array(dates,dtype='datetime64[D]')\n",
    "    df['invoice'] = [re.sub(\"\\D+\",\"\",i) for i in df['invoice'].values]\n",
    "    \n",
    "    ## sort by date and reset the index\n",
    "    df.sort_values(by='invoice_date',inplace=True)\n",
    "    df.reset_index(drop=True,inplace=True)\n",
    "    \n",
    "    return(df)\n",
    "\n",
    "def convert_to_ts(df_orig, country=None):\n",
    "    \"\"\"\n",
    "    given the original DataFrame (fetch_data())\n",
    "    return a numerically indexed time-series DataFrame \n",
    "    by aggregating over each day\n",
    "    \"\"\"\n",
    "\n",
    "    if country:\n",
    "        if country not in np.unique(df_orig['country'].values):\n",
    "            raise Exception(\"country not found\")\n",
    "    \n",
    "        mask = df_orig['country'] == country\n",
    "        df = df_orig[mask]\n",
    "    else:\n",
    "        df = df_orig\n",
    "        \n",
    "    ## use a date range to ensure all days are accounted for in the data\n",
    "    invoice_dates = df['invoice_date'].values\n",
    "    start_month = '{}-{}'.format(df['year'].values[0],str(df['month'].values[0]).zfill(2))\n",
    "    stop_month = '{}-{}'.format(df['year'].values[-1],str(df['month'].values[-1]).zfill(2))\n",
    "    df_dates = df['invoice_date'].values.astype('datetime64[D]')\n",
    "    days = np.arange(start_month, stop_month, dtype='datetime64[D]')\n",
    "    \n",
    "    purchases = np.array([np.where(df_dates==day)[0].size for day in days])\n",
    "    invoices = [np.unique(df[df_dates==day]['invoice'].values).size for day in days]\n",
    "    streams = [np.unique(df[df_dates==day]['stream_id'].values).size for day in days]\n",
    "    views =  [df[df_dates==day]['times_viewed'].values.sum() for day in days]\n",
    "    revenue = [df[df_dates==day]['price'].values.sum() for day in days]\n",
    "    year_month = [\"-\".join(re.split(\"-\",str(day))[:2]) for day in days]\n",
    "    \n",
    "    \n",
    "\n",
    "    df_time = pd.DataFrame({'date':days,\n",
    "                            'purchases':purchases,\n",
    "                            'unique_invoices':invoices,\n",
    "                            'unique_streams':streams,\n",
    "                            'total_views':views,\n",
    "                            'year_month':year_month,\n",
    "                            'revenue':revenue})\n",
    "    \n",
    "    # new - month and year\n",
    "    df_time['month'] = df_time['year_month'].str.split('-').apply(lambda x: x[1]).astype(int)\n",
    "    df_time['year'] =  df_time['year_month'].str.split('-').apply(lambda x: x[0]).astype(int)    \n",
    "    \n",
    "    return(df_time)"
   ]
  },
  {
   "cell_type": "code",
   "execution_count": 3,
   "metadata": {},
   "outputs": [],
   "source": [
    "def save_ts(datadir):\n",
    "    \n",
    "    def revise_ts(df_time):\n",
    "        \"\"\"\n",
    "        Add type of data - train or production data. Training data is until 8/1/2019 \n",
    "        \"\"\"\n",
    "        df_time['type'] = ''\n",
    "        df_time.loc[(((df_time['year'] == 2019) & (df_time['month'] >= 8)) | (df_time['year'] > 2019)), 'type'] = 'prod'\n",
    "        df_time.loc[(df_time['type'] != 'prod'), 'type'] = 'train'\n",
    "        return df_time\n",
    "    \n",
    "    train_datadir = os.path.join(datadir, \"cs-train\")\n",
    "    prod_datadir = os.path.join(datadir, \"cs-production\")\n",
    "    ts_datadir = os.path.join(datadir, 'ts-data')\n",
    "    \n",
    "    # wipe old files\n",
    "    shutil.rmtree(ts_datadir)\n",
    "    if not os.path.exists(ts_datadir):\n",
    "        os.mkdir(ts_datadir)\n",
    "\n",
    "    df_train = fetch_data(train_datadir)\n",
    "    df_prod = fetch_data(prod_datadir)\n",
    "    \n",
    "    df_train['type'] = 'train'\n",
    "    df_prod['type'] = 'prod'\n",
    "    df = pd.concat([df_train, df_prod])\n",
    "    \n",
    "    ## find the top N countries (wrt revenue)\n",
    "    N = 15\n",
    "    table = pd.pivot_table(df,index='country', values=\"price\", aggfunc='sum')\n",
    "    table.columns = ['total_revenue']\n",
    "    table.sort_values(by='total_revenue',inplace=True,ascending=False)\n",
    "    top_countries =  np.array(list(table.index))[:N].tolist()\n",
    "    \n",
    "    for country in top_countries:    \n",
    "        df_time = convert_to_ts(df, country=country)\n",
    "        df_time = revise_ts(df_time)\n",
    "        ts_filename = os.path.join(ts_datadir, f\"{country.lower()}.csv\")\n",
    "        df_time.to_csv(ts_filename, index=False)\n",
    "\n",
    "    return df\n",
    "\n",
    "def load_ts(datadir, country=None, datatype='all', droptype=False):\n",
    "    \"\"\"\n",
    "    datatypes: all, train, or prod in string format\n",
    "    \"\"\"    \n",
    "    \n",
    "    ts_datadir = os.path.join(datadir, 'ts-data')\n",
    "    \n",
    "    if country:\n",
    "        c = country.lower()\n",
    "        onlyfiles = [f for f in os.listdir(ts_datadir) if os.path.isfile(os.path.join(ts_datadir, f))]\n",
    "        countries_in_dir = [c.split('.')[0] for c in onlyfiles]\n",
    "        if c not in countries_in_dir:\n",
    "            raise Exception(\"country not found\")\n",
    "    \n",
    "    filename = os.path.join(ts_datadir, f'{c}.csv')\n",
    "    df_ts = pd.read_csv(filename)\n",
    "    if datatype.lower() == 'train':\n",
    "        df_ts = df_ts[df_ts['type'] == 'train']        \n",
    "    elif datatype.lower() == 'prod':\n",
    "        df_ts = df_ts[df_ts['type'] == 'prod']\n",
    "    elif datatype.lower() == 'all':\n",
    "        # all data\n",
    "        pass\n",
    "    else:\n",
    "        # all data\n",
    "        raise Exception(\"datatype must be train, prod, or all\")\n",
    "    \n",
    "    # remove type column\n",
    "    if droptype:\n",
    "        df_ts = df_ts.drop(columns=['type'])\n",
    "    return df_ts"
   ]
  },
  {
   "cell_type": "code",
   "execution_count": 4,
   "metadata": {},
   "outputs": [],
   "source": [
    "def engineer_features(df, datatype='all', log=True):\n",
    "    \"\"\"\n",
    "    df: country based time series\n",
    "    datatypes: all, train, or prod in string format\n",
    "    \"\"\"\n",
    "    def refactor_original(df, remove_early=True):\n",
    "        \n",
    "        columns_p1 = [\"date\", \"purchases\", \"unique_invoices\", \"unique_streams\", \"total_views\", \"year_month\"]\n",
    "        columns_p2 = [\"type\", \"revenue\"]\n",
    "        df = pd.concat([df[columns_p1], pd.get_dummies(df.month, prefix='month'),\n",
    "                            pd.get_dummies(df.year, prefix='year'), df[columns_p2]], axis=1)\n",
    "\n",
    "        # add months as new variables if not in variables\n",
    "        for i in range(1, 13):\n",
    "            month = f'month_{i:02d}'\n",
    "            if month not in df.columns:\n",
    "                df[month] = 0\n",
    "                df[month] = df[month].astype(int)\n",
    "\n",
    "        # add years as new variables if not in variables\n",
    "        for i in range(2017, 2020):\n",
    "            year = f'year_{i}'\n",
    "            if year not in df.columns:\n",
    "                df[year] = 0\n",
    "                df[year] = df[year].astype(int)\n",
    "\n",
    "\n",
    "        df = df[['date', 'purchases', 'unique_invoices', 'unique_streams', 'total_views',\n",
    "                 'month_01', 'month_02', 'month_03', 'month_04', 'month_05', 'month_06',\n",
    "                 'month_07', 'month_08', 'month_09', 'month_10', 'month_11', 'month_12',\n",
    "                 'year_2017', 'year_2018', 'year_2019',\n",
    "                 'type', 'revenue']]\n",
    "        return df\n",
    "    \n",
    "    if datatype.lower() not in ['train', 'prod', 'all']:\n",
    "        raise Exception(\"datatype must be train, prod, or all\")\n",
    "    \n",
    "    \n",
    "    # refactor\n",
    "    df = refactor_original(df)\n",
    "    \n",
    "    ## extract dates\n",
    "    dates = df['date'].values.copy()\n",
    "    dates = dates.astype('datetime64[D]')\n",
    "    \n",
    "    ## engineer some features\n",
    "    eng_features = defaultdict(list)\n",
    "    \n",
    "    # [7, 14, 21, 28, 35, 42, 49, 56, 63, 70]\n",
    "    # [7, 14, 28, 70]\n",
    "    previous = [7, 14, 28, 70]\n",
    "    y = np.zeros(dates.size)\n",
    "    # first is date, last is revenue\n",
    "    variables = ['purchases', 'unique_invoices', 'unique_streams', 'total_views', 'revenue']\n",
    "    months = [f'month_{i:02d}' for i in range(1, 13)]\n",
    "    years = [f'year_{i}' for i in range(2017, 2020)]\n",
    "    \n",
    "    for d,day in enumerate(dates):\n",
    "        # current day\n",
    "        current = np.datetime64(day, 'D')\n",
    "        \n",
    "        ## get the target revenue    \n",
    "        plus_30 = current + np.timedelta64(30,'D')\n",
    "        mask = np.in1d(dates, np.arange(current,plus_30,dtype='datetime64[D]'))\n",
    "        y[d] = df[mask]['revenue'].sum()\n",
    "\n",
    "        # time-based features\n",
    "        for variable in variables:\n",
    "            ## use windows in time back from a specific date\n",
    "            for num in previous:\n",
    "                prev = current - np.timedelta64(num, 'D')\n",
    "                mask = np.in1d(dates, np.arange(prev, current, dtype='datetime64[D]'))\n",
    "                sum_var = df[mask][variable].sum()\n",
    "                eng_features[f\"previous_{num}_{variable}\"].append(sum_var)\n",
    "                                \n",
    "            ## attempt to capture monthly trend with previous years data (if present)\n",
    "            start_date = current - np.timedelta64(365,'D')\n",
    "            stop_date = plus_30 - np.timedelta64(365,'D')\n",
    "            mask = np.in1d(dates, np.arange(start_date, stop_date,dtype='datetime64[D]'))\n",
    "            eng_features[f'previous_year_{variable}'].append(df[mask][variable].sum())\n",
    "\n",
    "        # get type\n",
    "        mask = np.in1d(dates, np.arange(current,current+1,dtype='datetime64[D]'))\n",
    "        var = df.loc[mask, \"type\"].values[0]\n",
    "        eng_features[\"type\"].append(var)\n",
    "\n",
    "    X = pd.DataFrame(eng_features)\n",
    "\n",
    "    # prune data depending on type\n",
    "    if datatype.lower() == 'train':\n",
    "        dates = dates[X['type'] == 'train']\n",
    "        y = y[X['type'] == 'train']\n",
    "        X = X[X['type'] == 'train']\n",
    "    elif datatype.lower() == 'prod':\n",
    "        dates = dates[X['type'] == 'prod']\n",
    "        y = y[X['type'] == 'prod']\n",
    "        X = X[X['type'] == 'prod']\n",
    "    elif datatype.lower() == 'all':\n",
    "        # all data\n",
    "        pass\n",
    "    else:\n",
    "        # all data\n",
    "        raise Exception(\"datatype must be train, prod, or all\")\n",
    "        \n",
    "    # drop type\n",
    "    X = X.drop(columns=['type'])\n",
    "\n",
    "    ## combine features in to df and remove rows with all zeros\n",
    "    X.fillna(0, inplace=True)\n",
    "    mask = X.sum(axis=1)>0\n",
    "    X = X[mask]\n",
    "    y = y[mask]\n",
    "    dates = dates[mask]\n",
    "    X.reset_index(drop=True, inplace=True)\n",
    "\n",
    "    ## remove the last 30 days (because the target is not reliable)\n",
    "    mask = np.arange(X.shape[0]) < np.arange(X.shape[0])[-30]\n",
    "    X = X[mask]\n",
    "    y = y[mask]\n",
    "    dates = dates[mask]\n",
    "    X.reset_index(drop=True, inplace=True)\n",
    "    \n",
    "    if log:\n",
    "        y = np.log(y)\n",
    "    \n",
    "    return X, y, dates"
   ]
  },
  {
   "cell_type": "code",
   "execution_count": 5,
   "metadata": {},
   "outputs": [],
   "source": [
    "datadir = os.path.join(module_path, \"src\", \"app\", \"data\")\n",
    "\n",
    "train_datadir = os.path.join(datadir, \"cs-train\")\n",
    "prod_datadir = os.path.join(datadir, \"cs-production\")"
   ]
  },
  {
   "cell_type": "raw",
   "metadata": {},
   "source": [
    "dfs = save_ts(datadir)"
   ]
  },
  {
   "cell_type": "code",
   "execution_count": 6,
   "metadata": {},
   "outputs": [],
   "source": [
    "# parameters\n",
    "country = 'United Kingdom'\n",
    "\n",
    "dfi = load_ts(datadir, country=country, datatype='all', droptype=False)\n",
    "\n",
    "dfi_train = dfi[dfi['type'] == 'train']\n",
    "dfi_prod = dfi[dfi['type'] == 'prod']"
   ]
  },
  {
   "cell_type": "code",
   "execution_count": 7,
   "metadata": {},
   "outputs": [
    {
     "data": {
      "text/html": [
       "<div>\n",
       "<style scoped>\n",
       "    .dataframe tbody tr th:only-of-type {\n",
       "        vertical-align: middle;\n",
       "    }\n",
       "\n",
       "    .dataframe tbody tr th {\n",
       "        vertical-align: top;\n",
       "    }\n",
       "\n",
       "    .dataframe thead th {\n",
       "        text-align: right;\n",
       "    }\n",
       "</style>\n",
       "<table border=\"1\" class=\"dataframe\">\n",
       "  <thead>\n",
       "    <tr style=\"text-align: right;\">\n",
       "      <th></th>\n",
       "      <th>date</th>\n",
       "      <th>purchases</th>\n",
       "      <th>unique_invoices</th>\n",
       "      <th>unique_streams</th>\n",
       "      <th>total_views</th>\n",
       "      <th>year_month</th>\n",
       "      <th>revenue</th>\n",
       "      <th>month</th>\n",
       "      <th>year</th>\n",
       "      <th>type</th>\n",
       "    </tr>\n",
       "  </thead>\n",
       "  <tbody>\n",
       "    <tr>\n",
       "      <th>0</th>\n",
       "      <td>2017-11-01</td>\n",
       "      <td>0</td>\n",
       "      <td>0</td>\n",
       "      <td>0</td>\n",
       "      <td>0</td>\n",
       "      <td>2017-11</td>\n",
       "      <td>0.0</td>\n",
       "      <td>11</td>\n",
       "      <td>2017</td>\n",
       "      <td>train</td>\n",
       "    </tr>\n",
       "    <tr>\n",
       "      <th>1</th>\n",
       "      <td>2017-11-02</td>\n",
       "      <td>0</td>\n",
       "      <td>0</td>\n",
       "      <td>0</td>\n",
       "      <td>0</td>\n",
       "      <td>2017-11</td>\n",
       "      <td>0.0</td>\n",
       "      <td>11</td>\n",
       "      <td>2017</td>\n",
       "      <td>train</td>\n",
       "    </tr>\n",
       "    <tr>\n",
       "      <th>2</th>\n",
       "      <td>2017-11-03</td>\n",
       "      <td>0</td>\n",
       "      <td>0</td>\n",
       "      <td>0</td>\n",
       "      <td>0</td>\n",
       "      <td>2017-11</td>\n",
       "      <td>0.0</td>\n",
       "      <td>11</td>\n",
       "      <td>2017</td>\n",
       "      <td>train</td>\n",
       "    </tr>\n",
       "    <tr>\n",
       "      <th>3</th>\n",
       "      <td>2017-11-04</td>\n",
       "      <td>0</td>\n",
       "      <td>0</td>\n",
       "      <td>0</td>\n",
       "      <td>0</td>\n",
       "      <td>2017-11</td>\n",
       "      <td>0.0</td>\n",
       "      <td>11</td>\n",
       "      <td>2017</td>\n",
       "      <td>train</td>\n",
       "    </tr>\n",
       "    <tr>\n",
       "      <th>4</th>\n",
       "      <td>2017-11-05</td>\n",
       "      <td>0</td>\n",
       "      <td>0</td>\n",
       "      <td>0</td>\n",
       "      <td>0</td>\n",
       "      <td>2017-11</td>\n",
       "      <td>0.0</td>\n",
       "      <td>11</td>\n",
       "      <td>2017</td>\n",
       "      <td>train</td>\n",
       "    </tr>\n",
       "  </tbody>\n",
       "</table>\n",
       "</div>"
      ],
      "text/plain": [
       "         date  purchases  unique_invoices  unique_streams  total_views  \\\n",
       "0  2017-11-01          0                0               0            0   \n",
       "1  2017-11-02          0                0               0            0   \n",
       "2  2017-11-03          0                0               0            0   \n",
       "3  2017-11-04          0                0               0            0   \n",
       "4  2017-11-05          0                0               0            0   \n",
       "\n",
       "  year_month  revenue  month  year   type  \n",
       "0    2017-11      0.0     11  2017  train  \n",
       "1    2017-11      0.0     11  2017  train  \n",
       "2    2017-11      0.0     11  2017  train  \n",
       "3    2017-11      0.0     11  2017  train  \n",
       "4    2017-11      0.0     11  2017  train  "
      ]
     },
     "execution_count": 7,
     "metadata": {},
     "output_type": "execute_result"
    }
   ],
   "source": [
    "dfi.head()"
   ]
  },
  {
   "cell_type": "markdown",
   "metadata": {},
   "source": [
    "## Ridge Regression"
   ]
  },
  {
   "cell_type": "code",
   "execution_count": 8,
   "metadata": {},
   "outputs": [
    {
     "name": "stdout",
     "output_type": "stream",
     "text": [
      "(638, 10) (580, 25)\n"
     ]
    }
   ],
   "source": [
    "log = True\n",
    "X_train, y_train, dates_train = engineer_features(dfi, datatype='train', log=log)\n",
    "\n",
    "print(dfi_train.shape, X_train.shape)"
   ]
  },
  {
   "cell_type": "code",
   "execution_count": 9,
   "metadata": {},
   "outputs": [],
   "source": [
    "alphas = np.power(10, np.arange(-4, 2, dtype=float))\n",
    "\n",
    "param_grid = {'alpha': alphas, 'normalize': [True, False]}"
   ]
  },
  {
   "cell_type": "code",
   "execution_count": 10,
   "metadata": {},
   "outputs": [],
   "source": [
    "lm = Ridge(random_state=42)\n",
    "\n",
    "# Random search of parameters, using 3 fold cross validation, \n",
    "# search across 100 different combinations, and use all available cores\n",
    "clf = GridSearchCV(lm, param_grid=param_grid, cv=3)\n"
   ]
  },
  {
   "cell_type": "code",
   "execution_count": 11,
   "metadata": {},
   "outputs": [],
   "source": [
    "# Fit the random search model\n",
    "clf.fit(X_train, y_train)\n",
    "# Make predictions on traibning data\n",
    "y_train_pred = clf.predict(X_train)\n",
    "\n",
    "# get revenue\n",
    "if log:\n",
    "    r_train = np.exp(y_train)\n",
    "    r_train_pred = np.exp(y_train_pred)\n",
    "else:\n",
    "    r_train = y_train\n",
    "    r_train_pred = y_train_pred"
   ]
  },
  {
   "cell_type": "code",
   "execution_count": 12,
   "metadata": {},
   "outputs": [
    {
     "data": {
      "image/png": "[encoded data removed]",
      "text/plain": [
       "<Figure size 432x288 with 1 Axes>"
      ]
     },
     "metadata": {
      "needs_background": "light"
     },
     "output_type": "display_data"
    }
   ],
   "source": [
    "plt.plot(dates_train, r_train, label='true')\n",
    "plt.plot(dates_train, r_train_pred, label='prediction')\n",
    "plt.xticks(rotation = 45) # Rotates X-Axis Ticks by 45-degrees\n",
    "plt.xlabel('date')\n",
    "plt.ylabel('revenue over last month [training]')\n",
    "plt.legend()\n",
    "plt.show()"
   ]
  },
  {
   "cell_type": "code",
   "execution_count": 13,
   "metadata": {},
   "outputs": [
    {
     "name": "stdout",
     "output_type": "stream",
     "text": [
      "(122, 10) (92, 25)\n"
     ]
    }
   ],
   "source": [
    "X_prod, y_prod, dates_prod = engineer_features(dfi, datatype='prod', log=log)\n",
    "\n",
    "print(dfi_prod.shape, X_prod.shape)"
   ]
  },
  {
   "cell_type": "code",
   "execution_count": 14,
   "metadata": {},
   "outputs": [],
   "source": [
    "y_prod_pred = clf.predict(X_prod)\n",
    "\n",
    "# get revenue\n",
    "if log:\n",
    "    r_prod = np.exp(y_prod)\n",
    "    r_prod_pred = np.exp(y_prod_pred)\n",
    "else:\n",
    "    r_prod = y_prod\n",
    "    r_prod_pred = y_prod_pred"
   ]
  },
  {
   "cell_type": "code",
   "execution_count": 15,
   "metadata": {},
   "outputs": [
    {
     "data": {
      "image/png": "[encoded data removed]",
      "text/plain": [
       "<Figure size 432x288 with 1 Axes>"
      ]
     },
     "metadata": {
      "needs_background": "light"
     },
     "output_type": "display_data"
    }
   ],
   "source": [
    "plt.plot(dates_prod, y_prod, label='true')\n",
    "plt.plot(dates_prod, y_prod_pred, label='prediction')\n",
    "plt.xticks(rotation = 45) # Rotates X-Axis Ticks by 45-degrees\n",
    "plt.xlabel('date')\n",
    "plt.ylabel('revenue over last month [production]')\n",
    "plt.legend()\n",
    "plt.show()"
   ]
  },
  {
   "cell_type": "code",
   "execution_count": 16,
   "metadata": {},
   "outputs": [
    {
     "data": {
      "image/png": "[encoded data removed]",
      "text/plain": [
       "<Figure size 432x288 with 1 Axes>"
      ]
     },
     "metadata": {
      "needs_background": "light"
     },
     "output_type": "display_data"
    },
    {
     "name": "stdout",
     "output_type": "stream",
     "text": [
      "rmse: 76633.7172787395\n",
      "r-squared: 0.17068933067444825\n"
     ]
    }
   ],
   "source": [
    "sns.regplot(x=r_train, y=r_train_pred)\n",
    "plt.xlabel(\"Revenue (True)\")\n",
    "plt.ylabel(\"Revenue (Predicted)\")\n",
    "plt.title(\"Predicted vs True Revenue [Training]\")\n",
    "plt.show()\n",
    "\n",
    "print(f\"rmse: {np.sqrt(mean_squared_error(r_train, r_train_pred))}\\nr-squared: {r2_score(r_train, r_train_pred)}\")"
   ]
  },
  {
   "cell_type": "code",
   "execution_count": 17,
   "metadata": {},
   "outputs": [
    {
     "data": {
      "image/png": "[encoded data removed]",
      "text/plain": [
       "<Figure size 432x288 with 1 Axes>"
      ]
     },
     "metadata": {
      "needs_background": "light"
     },
     "output_type": "display_data"
    },
    {
     "name": "stdout",
     "output_type": "stream",
     "text": [
      "rmse: 52863.74902640621\n",
      "r-squared: -0.06451696008284435\n"
     ]
    }
   ],
   "source": [
    "sns.regplot(x=r_prod, y=r_prod_pred)\n",
    "plt.xlabel(\"Revenue (True)\")\n",
    "plt.ylabel(\"Revenue (Predicted)\")\n",
    "plt.title(\"Predicted vs True Revenue [Production]\")\n",
    "plt.show()\n",
    "\n",
    "print(f\"rmse: {np.sqrt(mean_squared_error(r_prod, r_prod_pred))}\\nr-squared: {r2_score(r_prod, r_prod_pred)}\")"
   ]
  },
  {
   "cell_type": "markdown",
   "metadata": {},
   "source": [
    "## Support Vector Machine"
   ]
  },
  {
   "cell_type": "code",
   "execution_count": 18,
   "metadata": {},
   "outputs": [
    {
     "name": "stdout",
     "output_type": "stream",
     "text": [
      "(638, 10) (580, 25)\n"
     ]
    }
   ],
   "source": [
    "log = False\n",
    "X_train, y_train, dates_train = engineer_features(dfi, datatype='train', log=log)\n",
    "\n",
    "print(dfi_train.shape, X_train.shape)"
   ]
  },
  {
   "cell_type": "code",
   "execution_count": 19,
   "metadata": {},
   "outputs": [],
   "source": [
    "param_grid = { 'C':[0.1,1,100,1000],\n",
    "              'kernel':['rbf', 'linear'],\n",
    "              'gamma': [1, 0.1, 0.01, 0.001, 0.0001]\n",
    "             }\n"
   ]
  },
  {
   "cell_type": "code",
   "execution_count": 20,
   "metadata": {},
   "outputs": [],
   "source": [
    "svm = SVR()\n",
    "\n",
    "\n",
    "clf = GridSearchCV(svm, param_grid=param_grid, cv=3)"
   ]
  },
  {
   "cell_type": "code",
   "execution_count": null,
   "metadata": {},
   "outputs": [],
   "source": [
    "# Fit the random search model\n",
    "clf.fit(X_train, y_train)\n",
    "# Make predictions on traibning data\n",
    "y_train_pred = clf.predict(X_train)\n",
    "\n",
    "# get revenue\n",
    "if log:\n",
    "    r_train = np.exp(y_train)\n",
    "    r_train_pred = np.exp(y_train_pred)\n",
    "else:\n",
    "    r_train = y_train\n",
    "    r_train_pred = y_train_pred"
   ]
  },
  {
   "cell_type": "code",
   "execution_count": null,
   "metadata": {},
   "outputs": [],
   "source": [
    "plt.plot(dates_train, r_train, label='true')\n",
    "plt.plot(dates_train, r_train_pred, label='prediction')\n",
    "plt.xticks(rotation = 45) # Rotates X-Axis Ticks by 45-degrees\n",
    "plt.xlabel('date')\n",
    "plt.ylabel('revenue over last month [training]')\n",
    "plt.legend()\n",
    "plt.show()"
   ]
  },
  {
   "cell_type": "code",
   "execution_count": null,
   "metadata": {},
   "outputs": [],
   "source": [
    "X_prod, y_prod, dates_prod = engineer_features(dfi, datatype='prod', log=log)\n",
    "\n",
    "print(dfi_prod.shape, X_prod.shape)"
   ]
  },
  {
   "cell_type": "code",
   "execution_count": null,
   "metadata": {},
   "outputs": [],
   "source": [
    "y_prod_pred = clf.predict(X_prod)\n",
    "\n",
    "# get revenue\n",
    "if log:\n",
    "    r_prod = np.exp(y_prod)\n",
    "    r_prod_pred = np.exp(y_prod_pred)\n",
    "else:\n",
    "    r_prod = y_prod\n",
    "    r_prod_pred = y_prod_pred"
   ]
  },
  {
   "cell_type": "code",
   "execution_count": null,
   "metadata": {},
   "outputs": [],
   "source": [
    "plt.plot(dates_prod, y_prod, label='true')\n",
    "plt.plot(dates_prod, y_prod_pred, label='prediction')\n",
    "plt.xticks(rotation = 45) # Rotates X-Axis Ticks by 45-degrees\n",
    "plt.xlabel('date')\n",
    "plt.ylabel('revenue over last month [production]')\n",
    "plt.legend()\n",
    "plt.show()"
   ]
  },
  {
   "cell_type": "code",
   "execution_count": null,
   "metadata": {},
   "outputs": [],
   "source": [
    "sns.regplot(x=r_train, y=r_train_pred)\n",
    "plt.xlabel(\"Revenue (True)\")\n",
    "plt.ylabel(\"Revenue (Predicted)\")\n",
    "plt.title(\"Predicted vs True Revenue [Training]\")\n",
    "plt.show()\n",
    "\n",
    "print(f\"rmse: {np.sqrt(mean_squared_error(r_train, r_train_pred))}\\nr-squared: {r2_score(r_train, r_train_pred)}\")"
   ]
  },
  {
   "cell_type": "code",
   "execution_count": null,
   "metadata": {},
   "outputs": [],
   "source": [
    "sns.regplot(x=r_prod, y=r_prod_pred)\n",
    "plt.xlabel(\"Revenue (True)\")\n",
    "plt.ylabel(\"Revenue (Predicted)\")\n",
    "plt.title(\"Predicted vs True Revenue [Production]\")\n",
    "plt.show()\n",
    "\n",
    "print(f\"rmse: {np.sqrt(mean_squared_error(r_prod, r_prod_pred))}\\nr-squared: {r2_score(r_prod, r_prod_pred)}\")"
   ]
  },
  {
   "cell_type": "markdown",
   "metadata": {},
   "source": [
    "## Random Forest"
   ]
  },
  {
   "cell_type": "code",
   "execution_count": null,
   "metadata": {},
   "outputs": [],
   "source": [
    "log=False\n",
    "X_train, y_train, dates_train = engineer_features(dfi, datatype='train', log=log)\n",
    "\n",
    "print(dfi_train.shape, X_train.shape)"
   ]
  },
  {
   "cell_type": "code",
   "execution_count": null,
   "metadata": {},
   "outputs": [],
   "source": [
    "# Number of trees in random forest\n",
    "n_estimators = [int(x) for x in np.linspace(start=200, stop=2000, num=10)]\n",
    "# Number of features to consider at every split\n",
    "max_features = ['auto', 'sqrt']\n",
    "# Maximum number of levels in tree\n",
    "max_depth = [int(x) for x in np.linspace(10, 110, num = 11)]\n",
    "max_depth.append(None)\n",
    "# Minimum number of samples required to split a node\n",
    "min_samples_split = [2, 5, 10]\n",
    "# Minimum number of samples required at each leaf node\n",
    "min_samples_leaf = [1, 2, 4]\n",
    "# Method of selecting samples for training each tree\n",
    "bootstrap = [True, False]\n",
    "# Create the random grid\n",
    "random_grid = {'n_estimators': n_estimators,\n",
    "               'max_features': max_features,\n",
    "               'max_depth': max_depth,\n",
    "               'min_samples_split': min_samples_split,\n",
    "               'min_samples_leaf': min_samples_leaf,\n",
    "               'bootstrap': bootstrap}"
   ]
  },
  {
   "cell_type": "code",
   "execution_count": null,
   "metadata": {},
   "outputs": [],
   "source": [
    "rf = RandomForestRegressor(random_state=42)\n",
    "\n",
    "# Random search of parameters, using 3 fold cross validation, \n",
    "# search across 100 different combinations, and use all available cores\n",
    "clf = RandomizedSearchCV(estimator=rf, param_distributions=random_grid, n_iter=100,\n",
    "                               cv=3, verbose=2, random_state=42, n_jobs = -1)"
   ]
  },
  {
   "cell_type": "code",
   "execution_count": null,
   "metadata": {},
   "outputs": [],
   "source": [
    "# Fit the random search model\n",
    "clf.fit(X_train, y_train)\n",
    "# Make predictions on traibning data\n",
    "y_train_pred = clf.predict_date(X_train)\n",
    "\n",
    "# get revenue\n",
    "if log:\n",
    "    r_train = np.exp(y_train)\n",
    "    r_train_pred = np.exp(y_train_pred)\n",
    "else:\n",
    "    r_train = y_train\n",
    "    r_train_pred = y_train_pred"
   ]
  },
  {
   "cell_type": "code",
   "execution_count": null,
   "metadata": {},
   "outputs": [],
   "source": [
    "plt.plot(dates_train, r_train, label='true')\n",
    "plt.plot(dates_train, r_train_pred, label='prediction')\n",
    "plt.xticks(rotation = 45) # Rotates X-Axis Ticks by 45-degrees\n",
    "plt.xlabel('date')\n",
    "plt.ylabel('revenue over last month [training]')\n",
    "plt.legend()\n",
    "plt.show()"
   ]
  },
  {
   "cell_type": "code",
   "execution_count": null,
   "metadata": {},
   "outputs": [],
   "source": [
    "importances = clf.best_estimator_.feature_importances_\n",
    "std = np.std([tree.feature_importances_ for tree in clf.best_estimator_.estimators_],\n",
    "             axis=0)\n",
    "indices = np.argsort(importances)\n",
    "\n",
    "# Plot the impurity-based feature importances of the forest\n",
    "plt.figure(figsize=(15,15))\n",
    "plt.title(\"Feature importances\")\n",
    "columns = X_train.iloc[0, indices].index.tolist()\n",
    "\n",
    "\n",
    "plt.barh(columns, importances[indices],\n",
    "        color=\"r\", yerr=std[indices], align=\"center\")\n",
    "plt.xticks(rotation=90)\n",
    "plt.ylim([-1, X_train.shape[1]])\n",
    "plt.show()"
   ]
  },
  {
   "cell_type": "code",
   "execution_count": null,
   "metadata": {},
   "outputs": [],
   "source": [
    "X_prod, y_prod, dates_prod = engineer_features(dfi, datatype='prod', log=log)\n",
    "\n",
    "print(dfi_prod.shape, X_prod.shape)"
   ]
  },
  {
   "cell_type": "code",
   "execution_count": null,
   "metadata": {},
   "outputs": [],
   "source": [
    "y_prod_pred = clf.predict_date(X_prod)\n",
    "\n",
    "# get revenue\n",
    "if log:\n",
    "    r_prod = np.exp(y_prod)\n",
    "    r_prod_pred = np.exp(y_prod_pred)\n",
    "else:\n",
    "    r_prod = y_prod\n",
    "    r_prod_pred = y_prod_pred"
   ]
  },
  {
   "cell_type": "code",
   "execution_count": null,
   "metadata": {},
   "outputs": [],
   "source": [
    "plt.plot(dates_prod, y_prod, label='true')\n",
    "plt.plot(dates_prod, y_prod_pred, label='prediction')\n",
    "plt.xticks(rotation = 45) # Rotates X-Axis Ticks by 45-degrees\n",
    "plt.xlabel('date')\n",
    "plt.ylabel('revenue over last month [production]')\n",
    "plt.legend()\n",
    "plt.show()"
   ]
  },
  {
   "cell_type": "code",
   "execution_count": null,
   "metadata": {},
   "outputs": [],
   "source": [
    "sns.regplot(x=r_train, y=r_train_pred)\n",
    "plt.xlabel(\"Revenue (True)\")\n",
    "plt.ylabel(\"Revenue (Predicted)\")\n",
    "plt.title(\"Predicted vs True Revenue [Training]\")\n",
    "plt.show()\n",
    "\n",
    "print(f\"rmse: {np.sqrt(mean_squared_error(r_train, r_train_pred))}\\nr-squared: {r2_score(r_train, r_train_pred)}\")"
   ]
  },
  {
   "cell_type": "code",
   "execution_count": null,
   "metadata": {},
   "outputs": [],
   "source": [
    "sns.regplot(x=r_prod, y=r_prod_pred)\n",
    "plt.xlabel(\"Revenue (True)\")\n",
    "plt.ylabel(\"Revenue (Predicted)\")\n",
    "plt.title(\"Predicted vs True Revenue [Production]\")\n",
    "plt.show()\n",
    "\n",
    "print(f\"rmse: {np.sqrt(mean_squared_error(r_prod, r_prod_pred))}\\nr-squared: {r2_score(r_prod, r_prod_pred)}\")"
   ]
  },
  {
   "cell_type": "code",
   "execution_count": null,
   "metadata": {},
   "outputs": [],
   "source": [
    "sns.kdeplot(dfi[dfi['revenue'] > 0]['revenue'])\n",
    "plt.show()\n",
    "\n",
    "sns.kdeplot(np.log(dfi[dfi['revenue'] > 0]['revenue']))\n",
    "plt.xlabel(\"log(revenue)\")\n",
    "plt.show()"
   ]
  },
  {
   "cell_type": "code",
   "execution_count": null,
   "metadata": {},
   "outputs": [],
   "source": []
  }
 ],
 "metadata": {
  "kernelspec": {
   "display_name": "Python 3",
   "language": "python",
   "name": "python3"
  },
  "language_info": {
   "codemirror_mode": {
    "name": "ipython",
    "version": 3
   },
   "file_extension": ".py",
   "mimetype": "text/x-python",
   "name": "python",
   "nbconvert_exporter": "python",
   "pygments_lexer": "ipython3",
   "version": "3.7.7"
  }
 },
 "nbformat": 4,
 "nbformat_minor": 4
}
